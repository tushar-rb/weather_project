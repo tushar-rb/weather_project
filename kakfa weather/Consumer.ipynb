{
 "cells": [
  {
   "cell_type": "code",
   "execution_count": null,
   "id": "a4060594-9096-4508-9f6e-9641a368b0db",
   "metadata": {},
   "outputs": [],
   "source": [
    "from kafka import KafkaConsumer\n",
    "import json\n",
    "\n",
    "# Configuration\n",
    "KAFKA_SERVER = 'localhost:9092'\n",
    "TOPIC = 'weather-data'\n",
    "\n",
    "# Create consumer\n",
    "consumer = KafkaConsumer(\n",
    "    TOPIC,\n",
    "    bootstrap_servers=[KAFKA_SERVER],\n",
    "    auto_offset_reset='earliest',  # Start from beginning\n",
    "    value_deserializer=lambda x: json.loads(x.decode('utf-8'))\n",
    ")\n",
    "\n",
    "# Consume messages\n",
    "print(\"Waiting for messages...\")\n",
    "try:\n",
    "    for message in consumer:\n",
    "        print(f\"\\nReceived: {message.value}\")\n",
    "except KeyboardInterrupt:\n",
    "    print(\"Stopping consumer...\")\n",
    "finally:\n",
    "    consumer.close()"
   ]
  }
 ],
 "metadata": {
  "kernelspec": {
   "display_name": "Python 3 (ipykernel)",
   "language": "python",
   "name": "python3"
  },
  "language_info": {
   "codemirror_mode": {
    "name": "ipython",
    "version": 3
   },
   "file_extension": ".py",
   "mimetype": "text/x-python",
   "name": "python",
   "nbconvert_exporter": "python",
   "pygments_lexer": "ipython3",
   "version": "3.11.4"
  }
 },
 "nbformat": 4,
 "nbformat_minor": 5
}
