{
 "cells": [
  {
   "cell_type": "code",
   "execution_count": 1,
   "id": "98da3a14-ddc3-4cf7-9731-994ae93a777c",
   "metadata": {},
   "outputs": [],
   "source": [
    "import requests\n",
    "import random\n",
    "import json\n",
    "import time\n",
    "from kafka import KafkaProducer, KafkaConsumer"
   ]
  },
  {
   "cell_type": "code",
   "execution_count": null,
   "id": "afebab52-08a2-452f-86ab-a9fd2ad504ee",
   "metadata": {},
   "outputs": [],
   "source": [
    "cities = [\n",
    "    \"Tokyo\", \"Delhi\", \"Shanghai\", \"São Paulo\", \"Mexico City\",\n",
    "    \"Cairo\", \"Mumbai\", \"Beijing\", \"Dhaka\", \"Osaka\",\n",
    "    \"New York\", \"Karachi\", \"Buenos Aires\", \"Chongqing\", \"Istanbul\",\n",
    "    \"Kolkata\", \"Manila\", \"Lagos\", \"Rio de Janeiro\", \"Tianjin\",\n",
    "    \"Kinshasa\", \"Guangzhou\", \"Los Angeles\", \"Moscow\", \"Shenzhen\",\n",
    "    \"Lahore\", \"Bangalore\", \"Paris\", \"Bogotá\", \"Jakarta\",\n",
    "    \"Chennai\", \"Lima\", \"Bangkok\", \"Seoul\", \"Nagoya\",\n",
    "    \"Hyderabad\", \"London\", \"Chicago\", \"Chengdu\", \"Nanjing\",\n",
    "    \"Wuhan\", \"Ho Chi Minh City\", \"Luanda\", \"Ahmedabad\", \"Kuala Lumpur\",\n",
    "    \"Hong Kong\", \"Dongguan\", \"Foshan\", \"Hangzhou\", \"Qingdao\",\n",
    "    \"Johannesburg\", \"Taipei\", \"Baghdad\", \"Santiago\", \"Riyadh\",\n",
    "    \"Singapore\", \"Shantou\", \"Yangon\", \"Saint Petersburg\", \"Surat\",\n",
    "    \"Madrid\", \"Suzhou\", \"Pune\", \"Harbin\", \"Houston\"\n",
    "]"
   ]
  },
  {
   "cell_type": "code",
   "execution_count": null,
   "id": "51a73024-b51c-4b64-afe7-d37c0197464c",
   "metadata": {},
   "outputs": [],
   "source": [
    "def get_weather(city):\n",
    "    key = 'WeatherAPI_key'\n",
    "    url = f\"http://api.weatherapi.com/v1/current.json?key={key}&q={city}&aqi=yes\"\n",
    "    response = requests.get(url)\n",
    "    response_json = response.json()\n",
    "    return response_json"
   ]
  },
  {
   "cell_type": "code",
   "execution_count": 4,
   "id": "5dc5ab07-ae1a-4d48-a0e0-52ea4d55810d",
   "metadata": {},
   "outputs": [],
   "source": [
    "# Configuration\n",
    "KAFKA_SERVER = 'localhost:9092'\n",
    "TOPIC = 'weather-data'\n",
    "\n",
    "# Create producer\n",
    "producer = KafkaProducer(\n",
    "    bootstrap_servers=[KAFKA_SERVER],\n",
    "    value_serializer=lambda v: json.dumps(v).encode('utf-8')\n",
    ")\n",
    "\n",
    "\n",
    "# Flush and close\n",
    "# producer.flush()\n",
    "# producer.close()"
   ]
  },
  {
   "cell_type": "code",
   "execution_count": 6,
   "id": "4998b681-a628-4689-ab54-f5acf315a4ed",
   "metadata": {},
   "outputs": [
    {
     "name": "stdout",
     "output_type": "stream",
     "text": [
      "Sent: {'city': 'Mumbai', 'country': 'India', 'temperature_c': 27.0, 'wind_kph': 14.0, 'wind_direction': 'SW', 'humidity': 74}\n",
      "Sent: {'city': 'Bangalore', 'country': 'India', 'temperature_c': 27.2, 'wind_kph': 19.4, 'wind_direction': 'WSW', 'humidity': 62}\n",
      "Sent: {'city': 'Taipei', 'country': 'Taiwan', 'temperature_c': 27.4, 'wind_kph': 3.6, 'wind_direction': 'SE', 'humidity': 94}\n",
      "Sent: {'city': 'Surat', 'country': 'India', 'temperature_c': 29.5, 'wind_kph': 27.4, 'wind_direction': 'SW', 'humidity': 81}\n",
      "Sent: {'city': 'Kuala Lumpur', 'country': 'Malaysia', 'temperature_c': 27.1, 'wind_kph': 3.6, 'wind_direction': 'WNW', 'humidity': 79}\n",
      "Sent: {'city': 'Suzhou', 'country': 'China', 'temperature_c': 26.2, 'wind_kph': 17.6, 'wind_direction': 'NE', 'humidity': 65}\n",
      "Sent: {'city': 'Jakarta', 'country': 'Indonesia', 'temperature_c': 27.1, 'wind_kph': 3.6, 'wind_direction': 'N', 'humidity': 84}\n",
      "Sent: {'city': 'Shenzhen', 'country': 'China', 'temperature_c': 29.2, 'wind_kph': 8.3, 'wind_direction': 'S', 'humidity': 84}\n",
      "Sent: {'city': 'Nanjing', 'country': 'China', 'temperature_c': 24.2, 'wind_kph': 9.0, 'wind_direction': 'ESE', 'humidity': 100}\n",
      "Sent: {'city': 'Dhaka', 'country': 'Bangladesh', 'temperature_c': 30.2, 'wind_kph': 13.7, 'wind_direction': 'SSE', 'humidity': 68}\n",
      "Sent: {'city': 'Hong Kong', 'country': 'Hong Kong', 'temperature_c': 29.1, 'wind_kph': 10.4, 'wind_direction': 'SSW', 'humidity': 79}\n",
      "Sent: {'city': 'Tianjin', 'country': 'China', 'temperature_c': 22.1, 'wind_kph': 12.2, 'wind_direction': 'S', 'humidity': 65}\n",
      "Sent: {'city': 'Istanbul', 'country': 'Turkey', 'temperature_c': 24.0, 'wind_kph': 25.2, 'wind_direction': 'NE', 'humidity': 61}\n",
      "Sent: {'city': 'Nanjing', 'country': 'China', 'temperature_c': 24.2, 'wind_kph': 9.0, 'wind_direction': 'ESE', 'humidity': 100}\n",
      "Sent: {'city': 'Seoul', 'country': 'South Korea', 'temperature_c': 23.2, 'wind_kph': 5.8, 'wind_direction': 'SW', 'humidity': 78}\n",
      "Sent: {'city': 'Surat', 'country': 'India', 'temperature_c': 29.5, 'wind_kph': 27.4, 'wind_direction': 'SW', 'humidity': 81}\n",
      "Sent: {'city': 'Mumbai', 'country': 'India', 'temperature_c': 27.0, 'wind_kph': 14.0, 'wind_direction': 'SW', 'humidity': 74}\n",
      "Sent: {'city': 'Bogotá', 'country': 'Kolumbien', 'temperature_c': 15.1, 'wind_kph': 5.4, 'wind_direction': 'SE', 'humidity': 72}\n",
      "Sent: {'city': 'Lagos', 'country': 'Nigeria', 'temperature_c': 30.3, 'wind_kph': 15.8, 'wind_direction': 'SSW', 'humidity': 75}\n",
      "Sent: {'city': 'Chicago', 'country': 'United States of America', 'temperature_c': 19.1, 'wind_kph': 12.2, 'wind_direction': 'NE', 'humidity': 73}\n",
      "Sent: {'city': 'Taipei', 'country': 'Taiwan', 'temperature_c': 27.4, 'wind_kph': 3.6, 'wind_direction': 'SE', 'humidity': 94}\n",
      "Sent: {'city': 'Nagoya-Shi', 'country': 'Japan', 'temperature_c': 22.0, 'wind_kph': 3.6, 'wind_direction': 'SE', 'humidity': 83}\n",
      "Sent: {'city': 'Lima', 'country': 'Peru', 'temperature_c': 17.4, 'wind_kph': 6.1, 'wind_direction': 'SW', 'humidity': 81}\n",
      "Sent: {'city': 'Lima', 'country': 'Peru', 'temperature_c': 17.4, 'wind_kph': 6.1, 'wind_direction': 'SW', 'humidity': 81}\n",
      "Sent: {'city': 'Mexico City', 'country': 'Mexico', 'temperature_c': 15.4, 'wind_kph': 6.5, 'wind_direction': 'NNE', 'humidity': 77}\n",
      "Sent: {'city': 'Madrid', 'country': 'Spain', 'temperature_c': 31.2, 'wind_kph': 20.9, 'wind_direction': 'SW', 'humidity': 22}\n",
      "Sent: {'city': 'Dhaka', 'country': 'Bangladesh', 'temperature_c': 30.2, 'wind_kph': 13.7, 'wind_direction': 'SSE', 'humidity': 68}\n"
     ]
    },
    {
     "ename": "KeyboardInterrupt",
     "evalue": "",
     "output_type": "error",
     "traceback": [
      "\u001b[1;31m---------------------------------------------------------------------------\u001b[0m",
      "\u001b[1;31mKeyboardInterrupt\u001b[0m                         Traceback (most recent call last)",
      "Cell \u001b[1;32mIn[6], line 4\u001b[0m\n\u001b[0;32m      2\u001b[0m city \u001b[38;5;241m=\u001b[39m random\u001b[38;5;241m.\u001b[39mchoice(cities)\n\u001b[0;32m      3\u001b[0m data \u001b[38;5;241m=\u001b[39m get_weather(city)\n\u001b[1;32m----> 4\u001b[0m time\u001b[38;5;241m.\u001b[39msleep(\u001b[38;5;241m2\u001b[39m)\n\u001b[0;32m      6\u001b[0m \u001b[38;5;66;03m#name region locationtime wind_kph humidity cloud feelslike_c \u001b[39;00m\n\u001b[0;32m      7\u001b[0m weather_data \u001b[38;5;241m=\u001b[39m {\u001b[38;5;124m'\u001b[39m\u001b[38;5;124mcity\u001b[39m\u001b[38;5;124m'\u001b[39m: data[\u001b[38;5;124m'\u001b[39m\u001b[38;5;124mlocation\u001b[39m\u001b[38;5;124m'\u001b[39m][\u001b[38;5;124m'\u001b[39m\u001b[38;5;124mname\u001b[39m\u001b[38;5;124m'\u001b[39m],\n\u001b[0;32m      8\u001b[0m \u001b[38;5;124m'\u001b[39m\u001b[38;5;124mcountry\u001b[39m\u001b[38;5;124m'\u001b[39m: data[\u001b[38;5;124m'\u001b[39m\u001b[38;5;124mlocation\u001b[39m\u001b[38;5;124m'\u001b[39m][\u001b[38;5;124m'\u001b[39m\u001b[38;5;124mcountry\u001b[39m\u001b[38;5;124m'\u001b[39m],\n\u001b[0;32m      9\u001b[0m \u001b[38;5;124m'\u001b[39m\u001b[38;5;124mtemperature_c\u001b[39m\u001b[38;5;124m'\u001b[39m: data[\u001b[38;5;124m'\u001b[39m\u001b[38;5;124mcurrent\u001b[39m\u001b[38;5;124m'\u001b[39m][\u001b[38;5;124m'\u001b[39m\u001b[38;5;124mtemp_c\u001b[39m\u001b[38;5;124m'\u001b[39m],\n\u001b[0;32m     10\u001b[0m \u001b[38;5;124m'\u001b[39m\u001b[38;5;124mwind_kph\u001b[39m\u001b[38;5;124m'\u001b[39m: data[\u001b[38;5;124m'\u001b[39m\u001b[38;5;124mcurrent\u001b[39m\u001b[38;5;124m'\u001b[39m][\u001b[38;5;124m'\u001b[39m\u001b[38;5;124mwind_kph\u001b[39m\u001b[38;5;124m'\u001b[39m],\n\u001b[0;32m     11\u001b[0m \u001b[38;5;124m'\u001b[39m\u001b[38;5;124mwind_direction\u001b[39m\u001b[38;5;124m'\u001b[39m: data[\u001b[38;5;124m'\u001b[39m\u001b[38;5;124mcurrent\u001b[39m\u001b[38;5;124m'\u001b[39m][\u001b[38;5;124m'\u001b[39m\u001b[38;5;124mwind_dir\u001b[39m\u001b[38;5;124m'\u001b[39m],\n\u001b[0;32m     12\u001b[0m \u001b[38;5;124m'\u001b[39m\u001b[38;5;124mhumidity\u001b[39m\u001b[38;5;124m'\u001b[39m: data[\u001b[38;5;124m'\u001b[39m\u001b[38;5;124mcurrent\u001b[39m\u001b[38;5;124m'\u001b[39m][\u001b[38;5;124m'\u001b[39m\u001b[38;5;124mhumidity\u001b[39m\u001b[38;5;124m'\u001b[39m]}\n",
      "\u001b[1;31mKeyboardInterrupt\u001b[0m: "
     ]
    }
   ],
   "source": [
    "while(True):\n",
    "    city = random.choice(cities)\n",
    "    data = get_weather(city)\n",
    "    time.sleep(2)\n",
    "\n",
    "    #name region locationtime wind_kph humidity cloud feelslike_c \n",
    "    weather_data = {'city': data['location']['name'],\n",
    "    'country': data['location']['country'],\n",
    "    'temperature_c': data['current']['temp_c'],\n",
    "    'wind_kph': data['current']['wind_kph'],\n",
    "    'wind_direction': data['current']['wind_dir'],\n",
    "    'humidity': data['current']['humidity']}\n",
    "\n",
    "    try:\n",
    "        producer.send(TOPIC, value=weather_data)\n",
    "        print(f\"Sent: {weather_data}\")\n",
    "    except Exception as e:\n",
    "        print(f\"Error sending message: {e}\")"
   ]
  }
 ],
 "metadata": {
  "kernelspec": {
   "display_name": "Python 3 (ipykernel)",
   "language": "python",
   "name": "python3"
  },
  "language_info": {
   "codemirror_mode": {
    "name": "ipython",
    "version": 3
   },
   "file_extension": ".py",
   "mimetype": "text/x-python",
   "name": "python",
   "nbconvert_exporter": "python",
   "pygments_lexer": "ipython3",
   "version": "3.11.4"
  }
 },
 "nbformat": 4,
 "nbformat_minor": 5
}
